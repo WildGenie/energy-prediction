{
  "nbformat": 4,
  "nbformat_minor": 0,
  "metadata": {
    "colab": {
      "name": "ep_deep.ipynb",
      "provenance": [],
      "toc_visible": true
    },
    "kernelspec": {
      "name": "python3",
      "display_name": "Python 3"
    }
  },
  "cells": [
    {
      "cell_type": "markdown",
      "metadata": {
        "id": "AQxZCzK8070V",
        "colab_type": "text"
      },
      "source": [
        "Supplement to Part 4 of **time series forecasting with energy**"
      ]
    },
    {
      "cell_type": "code",
      "metadata": {
        "id": "pa4tolGd086-",
        "colab_type": "code",
        "colab": {}
      },
      "source": [
        "# LOAD THE REPOSITORY\n",
        "# if you are working from outside the repository\n",
        "# this happens if you use colab like I do\n",
        "!git clone https://github.com/sandeshbhatjr/energy-prediction.git"
      ],
      "execution_count": 0,
      "outputs": []
    },
    {
      "cell_type": "markdown",
      "metadata": {
        "id": "Wi9OOkLI1EFe",
        "colab_type": "text"
      },
      "source": [
        "# Basic Deep Learning Models\n",
        "\n",
        "Deep learning has shown promising results in many areas of machine learning problems, and it is natural to wonder if it can have any significant impact in the time-series forecasting arena. In the image and NLP domains, convNets and LSTMs respectively reign supreme, and the question is- what is the relevant architecture for a SOTA time-series prediction?"
      ]
    },
    {
      "cell_type": "code",
      "metadata": {
        "id": "NdIY8COe1FLZ",
        "colab_type": "code",
        "colab": {}
      },
      "source": [
        "%tensorflow_version 2.x\n",
        "from tensorflow.keras.models import Sequential\n",
        "from tensorflow.keras.layers import Dense\n",
        "from tensorflow.keras.layers import SimpleRNN\n",
        "from tensorflow.keras.layers import GRU\n",
        "from tensorflow.keras.layers import LSTM\n",
        "from tensorflow.keras.layers import BatchNormalization"
      ],
      "execution_count": 0,
      "outputs": []
    },
    {
      "cell_type": "markdown",
      "metadata": {
        "id": "JJhLRwGg29v5",
        "colab_type": "text"
      },
      "source": [
        "**Some preprocessing for NNs**\n",
        "\n",
        "The preprocessing is pretty standard: we scale all continuous features by variance since NNs are extremely sensitive to scale, and one-hot encode the categoric variables."
      ]
    },
    {
      "cell_type": "code",
      "metadata": {
        "id": "zzvmocP23G2w",
        "colab_type": "code",
        "colab": {}
      },
      "source": [
        "# NNs are sensitive to range, so rescale\n",
        "mean = german_df_with_load_and_gen['Day Ahead Price'].mean()\n",
        "var = german_df_with_load_and_gen['Day Ahead Price'].var()\n",
        "german_df_with_load_and_gen['Day Ahead Price (rescaled)'] = (german_df_with_load_and_gen['Day Ahead Price'] - mean) / var\n",
        "\n",
        "mean = german_df_with_load_and_gen['Total Load'].mean()\n",
        "var = german_df_with_load_and_gen['Total Load'].var()\n",
        "german_df_with_load_and_gen['Total Load (rescaled)'] = (german_df_with_load_and_gen['Total Load'] - mean) / var\n",
        "\n",
        "mean = german_df_with_load_and_gen['Total Generation'].mean()\n",
        "var = german_df_with_load_and_gen['Total Generation'].var()\n",
        "german_df_with_load_and_gen['Total Generation (rescaled)'] = (german_df_with_load_and_gen['Total Generation'] - mean) / var"
      ],
      "execution_count": 0,
      "outputs": []
    },
    {
      "cell_type": "markdown",
      "metadata": {
        "id": "jQd57_CK3M9X",
        "colab_type": "text"
      },
      "source": [
        "We have a few categorical variables in our data: deep models will need them to be one-hot encoded for use."
      ]
    },
    {
      "cell_type": "code",
      "metadata": {
        "id": "SlCQPRSM3Nr0",
        "colab_type": "code",
        "colab": {}
      },
      "source": [
        "ohe_holiday_df = pd.get_dummies(german_df_with_load_and_gen[['DE', 'LU']])\n",
        "ohe_bidding_zones_df = pd.get_dummies(german_df_with_load_and_gen['Bidding Zone'])\n",
        "\n",
        "proc_german_df = pd.concat([german_df_with_load_and_gen, ohe_bidding_zones_df], axis=1)\n",
        "proc_german_df2 = pd.concat([proc_german_df, ohe_holiday_df], axis=1)"
      ],
      "execution_count": 0,
      "outputs": []
    },
    {
      "cell_type": "markdown",
      "metadata": {
        "id": "3sUzABfP3Qbe",
        "colab_type": "text"
      },
      "source": [
        "Finally, we split the dataset into a a training and validation set."
      ]
    },
    {
      "cell_type": "code",
      "metadata": {
        "id": "ZI2hocD_3S81",
        "colab_type": "code",
        "colab": {}
      },
      "source": [
        "train_df, val_df = test_train_timesplit(proc_german_df2, train_size=0.9, test_size=0.1)"
      ],
      "execution_count": 0,
      "outputs": []
    },
    {
      "cell_type": "code",
      "metadata": {
        "id": "C5hAX-0c3WET",
        "colab_type": "code",
        "colab": {}
      },
      "source": [
        "# convert each hour to multi-sequential form\n",
        "price_train_X_data = extractHourlyData(train_df, ['Day Ahead Price (rescaled)', 'Day of Week'] + sorted(ohe_bidding_zones_df) + sorted(ohe_holiday_df))\n",
        "price_train_y_data = extractHourlyData(train_df, ['Day Ahead Price (rescaled)'])\n",
        "price_val_X_data = extractHourlyData(val_df, ['Day Ahead Price (rescaled)', 'Day of Week'] + sorted(ohe_bidding_zones_df) + sorted(ohe_holiday_df))\n",
        "price_val_y_data = extractHourlyData(val_df, ['Day Ahead Price (rescaled)'])"
      ],
      "execution_count": 0,
      "outputs": []
    },
    {
      "cell_type": "markdown",
      "metadata": {
        "id": "Sg2lQqJK3z_U",
        "colab_type": "text"
      },
      "source": [
        "## Feedforward NN\n",
        "The simplest deep model that we can come up with is a feed-forward neural network that takes into account the time and date of the price, and the bidding zone. This does not take into account the recent history of the prices, hence is not capable of noticing local trends in price based on previous day prices."
      ]
    },
    {
      "cell_type": "markdown",
      "metadata": {
        "id": "vX1hlRRc34CJ",
        "colab_type": "text"
      },
      "source": [
        "## RNN"
      ]
    },
    {
      "cell_type": "markdown",
      "metadata": {
        "id": "Xc1cVbqB4frU",
        "colab_type": "text"
      },
      "source": [
        "## Some attention: LSTM and GRU"
      ]
    },
    {
      "cell_type": "markdown",
      "metadata": {
        "id": "mcPfu4_X3pGp",
        "colab_type": "text"
      },
      "source": [
        "# Inception Time"
      ]
    },
    {
      "cell_type": "markdown",
      "metadata": {
        "id": "bESX3Ih343Aq",
        "colab_type": "text"
      },
      "source": [
        "# LSTM-MS Net"
      ]
    },
    {
      "cell_type": "markdown",
      "metadata": {
        "id": "Q8ZWg2kb1esr",
        "colab_type": "text"
      },
      "source": [
        "# Bibliography\n",
        "\n",
        "**[1]**. Sven F. Crone, Michèle Hibon, Konstantinos Nikolopoulos, *Advances in forecasting with neural networks? Empirical evidence from the NN3 competition on time series prediction*, International Journal of Forecasting\n",
        "Volume 27, Issue 3, July–September 2011, Pages 635-660\n",
        "\n"
      ]
    },
    {
      "cell_type": "markdown",
      "metadata": {
        "id": "Wu5eebbd12F2",
        "colab_type": "text"
      },
      "source": [
        "Supplements:  \n",
        "[The Uber approach and M4 winner: ES-RNN]()  \n",
        "\n",
        "Next part: [Analysis and discussion]()"
      ]
    }
  ]
}