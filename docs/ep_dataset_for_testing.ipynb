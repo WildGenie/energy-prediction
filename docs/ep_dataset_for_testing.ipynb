{
  "nbformat": 4,
  "nbformat_minor": 0,
  "metadata": {
    "colab": {
      "name": "dataset_for_testing.ipynb",
      "provenance": [],
      "collapsed_sections": [],
      "toc_visible": true
    },
    "kernelspec": {
      "name": "python3",
      "display_name": "Python 3"
    }
  },
  "cells": [
    {
      "cell_type": "markdown",
      "metadata": {
        "id": "yLq-EW-UFSJq",
        "colab_type": "text"
      },
      "source": [
        "# Manually creating datasets for testing\n",
        "\n",
        "In the development version, the process of data cleaning and processing has to be done programmatically on a daily basis. It is, hence, beneficial to construct a few datasets for testing the code."
      ]
    },
    {
      "cell_type": "code",
      "metadata": {
        "id": "cukhHqypFr7G",
        "colab_type": "code",
        "colab": {}
      },
      "source": [
        "# LOAD THE REPOSITORY\n",
        "# if you are working from outside the repository\n",
        "# this happens if you use colab like me, and start with the notebook\n",
        "!git clone https://github.com/sandeshbhatjr/energy-prediction.git\n",
        "!pip install -U --quiet holidays entsoe-py pandas statsmodels"
      ],
      "execution_count": 0,
      "outputs": []
    },
    {
      "cell_type": "markdown",
      "metadata": {
        "id": "-fzmX5f5GSwV",
        "colab_type": "text"
      },
      "source": [
        "The following cell should extract the german DA price dataset without correcting for DST. This will be called the `raw_df`."
      ]
    },
    {
      "cell_type": "code",
      "metadata": {
        "id": "7Gkx4DzQFukM",
        "colab_type": "code",
        "colab": {
          "base_uri": "https://localhost:8080/",
          "height": 204
        },
        "outputId": "3d1540ea-aa14-4696-cd9c-809f2596f565"
      },
      "source": [
        "import datetime as dt\n",
        "import numpy as np\n",
        "import pandas as pd\n",
        "from urllib.parse import urljoin\n",
        "\n",
        "root_path = 'energy-prediction/data/Germany/day-ahead-price/'\n",
        "df1 = pd.read_csv(urljoin(root_path, 'Day-ahead_prices_201501010000_201701012359_1.csv'), sep=';')\n",
        "df2 = pd.read_csv(urljoin(root_path, 'Day-ahead_prices_201701010000_201901012359_1.csv'), sep=';')\n",
        "df3 = pd.read_csv(urljoin(root_path, 'Day-ahead_prices_201901010000_202002062359_1.csv'), sep=';')\n",
        "df = df1.append(df2[df2['Date'] != 'Jan 1, 2017']).append(df3[df3['Date'] != 'Jan 1, 2019'])\n",
        "\n",
        "df['Date'] = pd.to_datetime(df['Date'])\n",
        "df['Time of day'] = pd.to_datetime(df['Time of day']).dt.time\n",
        "df.replace('-', 'NaN', inplace=True)\n",
        "countries = list(filter(lambda x: x.endswith('[Euro/MWh]'), sorted(df)))\n",
        "for country in countries:\n",
        "  df[country] = df[country].astype('float')\n",
        "df['timedate'] = pd.to_datetime(df['Date'].astype('str') + ' ' + df['Time of day'].astype('str'))\n",
        "df.set_index('timedate', drop=True, inplace=True)\n",
        "df.index.name = None\n",
        "df.drop(columns=['Date', 'Time of day'], inplace=True)\n",
        "\n",
        "pre_2018_german_df = \\\n",
        "df[['Germany/Austria/Luxembourg[Euro/MWh]']] \\\n",
        "[:dt.datetime(2018, 9, 30, 22, 0, 0)] \\\n",
        ".copy() \\\n",
        ".rename(columns={'Germany/Austria/Luxembourg[Euro/MWh]': 'Day Ahead Price'})\n",
        "pre_2018_german_df['Bidding Zone'] = 'DE-AT-LU'\n",
        "\n",
        "post_2018_german_df = \\\n",
        "df[['Germany/Luxembourg[Euro/MWh]']] \\\n",
        "[dt.datetime(2018, 9, 30, 23, 0, 0):] \\\n",
        ".copy() \\\n",
        ".rename(columns={'Germany/Luxembourg[Euro/MWh]': 'Day Ahead Price'})\n",
        "post_2018_german_df['Bidding Zone'] = 'DE-LU'\n",
        "\n",
        "german_df = pre_2018_german_df.append(post_2018_german_df)\n",
        "\n",
        "german_df.sample(5)"
      ],
      "execution_count": 6,
      "outputs": [
        {
          "output_type": "execute_result",
          "data": {
            "text/html": [
              "<div>\n",
              "<style scoped>\n",
              "    .dataframe tbody tr th:only-of-type {\n",
              "        vertical-align: middle;\n",
              "    }\n",
              "\n",
              "    .dataframe tbody tr th {\n",
              "        vertical-align: top;\n",
              "    }\n",
              "\n",
              "    .dataframe thead th {\n",
              "        text-align: right;\n",
              "    }\n",
              "</style>\n",
              "<table border=\"1\" class=\"dataframe\">\n",
              "  <thead>\n",
              "    <tr style=\"text-align: right;\">\n",
              "      <th></th>\n",
              "      <th>Day Ahead Price</th>\n",
              "      <th>Bidding Zone</th>\n",
              "    </tr>\n",
              "  </thead>\n",
              "  <tbody>\n",
              "    <tr>\n",
              "      <th>2016-06-26 23:00:00</th>\n",
              "      <td>28.12</td>\n",
              "      <td>DE-AT-LU</td>\n",
              "    </tr>\n",
              "    <tr>\n",
              "      <th>2018-02-14 22:00:00</th>\n",
              "      <td>31.37</td>\n",
              "      <td>DE-AT-LU</td>\n",
              "    </tr>\n",
              "    <tr>\n",
              "      <th>2016-04-22 19:00:00</th>\n",
              "      <td>30.93</td>\n",
              "      <td>DE-AT-LU</td>\n",
              "    </tr>\n",
              "    <tr>\n",
              "      <th>2017-04-07 23:00:00</th>\n",
              "      <td>37.93</td>\n",
              "      <td>DE-AT-LU</td>\n",
              "    </tr>\n",
              "    <tr>\n",
              "      <th>2018-11-04 08:00:00</th>\n",
              "      <td>45.48</td>\n",
              "      <td>DE-LU</td>\n",
              "    </tr>\n",
              "  </tbody>\n",
              "</table>\n",
              "</div>"
            ],
            "text/plain": [
              "                     Day Ahead Price Bidding Zone\n",
              "2016-06-26 23:00:00            28.12     DE-AT-LU\n",
              "2018-02-14 22:00:00            31.37     DE-AT-LU\n",
              "2016-04-22 19:00:00            30.93     DE-AT-LU\n",
              "2017-04-07 23:00:00            37.93     DE-AT-LU\n",
              "2018-11-04 08:00:00            45.48        DE-LU"
            ]
          },
          "metadata": {
            "tags": []
          },
          "execution_count": 6
        }
      ]
    },
    {
      "cell_type": "markdown",
      "metadata": {
        "id": "LMJ51VvdGhbd",
        "colab_type": "text"
      },
      "source": [
        "We save this as a preliminary input for our tests."
      ]
    },
    {
      "cell_type": "code",
      "metadata": {
        "id": "kwjaRBasF2WQ",
        "colab_type": "code",
        "colab": {}
      },
      "source": [
        "german_df.to_hdf('manually_processed_dataframes', key='raw_df')"
      ],
      "execution_count": 0,
      "outputs": []
    }
  ]
}