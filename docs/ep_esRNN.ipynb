{
  "nbformat": 4,
  "nbformat_minor": 0,
  "metadata": {
    "colab": {
      "name": "ep_esRNN.ipynb",
      "provenance": [],
      "collapsed_sections": []
    },
    "kernelspec": {
      "name": "python3",
      "display_name": "Python 3"
    }
  },
  "cells": [
    {
      "cell_type": "markdown",
      "metadata": {
        "id": "p_m03W_N61i1",
        "colab_type": "text"
      },
      "source": [
        "Supplement to Part 3 of **time series forecasting with energy**"
      ]
    },
    {
      "cell_type": "code",
      "metadata": {
        "id": "D-KB3bop6s1l",
        "colab_type": "code",
        "colab": {}
      },
      "source": [
        "# LOAD THE REPOSITORY\n",
        "# if you are working from outside the repository\n",
        "# this happens if you use colab like I do\n",
        "!git clone https://github.com/sandeshbhatjr/energy-prediction.git\n",
        "!pip install -U --quiet pandas tables numpy"
      ],
      "execution_count": 0,
      "outputs": []
    },
    {
      "cell_type": "code",
      "metadata": {
        "id": "xa2FFVlRVjhi",
        "colab_type": "code",
        "colab": {}
      },
      "source": [
        "import datetime as dt\n",
        "import numpy as np\n",
        "import pandas as pd\n",
        "\n",
        "df = pd.read_hdf('energy-prediction/data/clean_german_df', key='df_with_load_and_gen')"
      ],
      "execution_count": 0,
      "outputs": []
    },
    {
      "cell_type": "markdown",
      "metadata": {
        "id": "HYZAt9BQ6tnx",
        "colab_type": "text"
      },
      "source": [
        "# The Uber approach and M4 winner: ES-RNN\n",
        "\n",
        "This is an approach by Uber, which has seen promising results for forecasting demand for their services across time, and as such- the issues they face are rather similar to the one we have on our hands, so let us see how it performs in our case.\n",
        "\n",
        "https://eng.uber.com/m4-forecasting-competition/  \n",
        "https://eng.uber.com/neural-networks/  \n",
        "\n",
        "Implementing dynamic computation graphs in tensorflow:\n",
        "https://github.com/tensorflow/fold/blob/master/tensorflow_fold/g3doc/blocks.md"
      ]
    },
    {
      "cell_type": "code",
      "metadata": {
        "id": "hPzkau-E6zkz",
        "colab_type": "code",
        "colab": {}
      },
      "source": [
        ""
      ],
      "execution_count": 0,
      "outputs": []
    }
  ]
}