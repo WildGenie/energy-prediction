{
  "nbformat": 4,
  "nbformat_minor": 0,
  "metadata": {
    "colab": {
      "name": "ep_prophet.ipynb",
      "provenance": [],
      "collapsed_sections": []
    },
    "kernelspec": {
      "name": "python3",
      "display_name": "Python 3"
    }
  },
  "cells": [
    {
      "cell_type": "markdown",
      "metadata": {
        "id": "7Ya3u6GhxRr1",
        "colab_type": "text"
      },
      "source": [
        "Supplement to Part 2 of **time series forecasting with energy**"
      ]
    },
    {
      "cell_type": "code",
      "metadata": {
        "id": "dSgnrv5GxX6u",
        "colab_type": "code",
        "colab": {}
      },
      "source": [
        "# LOAD THE REPOSITORY\n",
        "# if you are working from outside the repository\n",
        "# this happens if you use colab like I do\n",
        "!git clone https://github.com/sandeshbhatjr/energy-prediction.git\n",
        "!pip install -U --quiet pandas fbprophet"
      ],
      "execution_count": 0,
      "outputs": []
    },
    {
      "cell_type": "code",
      "metadata": {
        "id": "1c1D3MPjzDyG",
        "colab_type": "code",
        "colab": {}
      },
      "source": [
        "import numpy as np\n",
        "import pandas as pd"
      ],
      "execution_count": 0,
      "outputs": []
    },
    {
      "cell_type": "markdown",
      "metadata": {
        "id": "fY_-9au4xiD3",
        "colab_type": "text"
      },
      "source": [
        "# Using Facebook's forecast engine: Prophet\n",
        "\n",
        "Prophet is a forecasting package created by **Facebook** for their internal forecasting demands. The key advantage of `Prophet` is supposed to be (as fb claims) its ease of use while still working well across domains. Without any look into its implementational details, we benchmark its performance using sMAPE as the primary indicator of model accuracy. \n",
        "\n",
        "First, we use it as is, with absolutely no customisation whatsoever."
      ]
    },
    {
      "cell_type": "code",
      "metadata": {
        "id": "RUnVyZqdyNzq",
        "colab_type": "code",
        "colab": {}
      },
      "source": [
        "from fbprophet import Prophet\n",
        "\n",
        "german_df_for_prophet = german_df.loc[german_df['Hour'] == 5, ['Day Ahead Price', 'Date']].copy()\n",
        "german_df_for_prophet = german_df_for_prophet.rename(columns={'Day Ahead Price' : 'y', 'Date' : 'ds'})\n",
        "german_df_for_prophet['ds'] = german_df_for_prophet.index.to_series()\n",
        "\n",
        "train_df, val_df = test_train_timesplit(german_df_for_prophet, date_column_name='ds', train_size=0.9, test_size=0.1)\n",
        "\n",
        "prophet_model_a = Prophet()\n",
        "prophet_model_a.fit(train_df)"
      ],
      "execution_count": 0,
      "outputs": []
    },
    {
      "cell_type": "code",
      "metadata": {
        "id": "4mqbTCuw0x1-",
        "colab_type": "code",
        "colab": {}
      },
      "source": [
        "forecast = PmodelA.predict(val_df[['ds']])"
      ],
      "execution_count": 0,
      "outputs": []
    },
    {
      "cell_type": "markdown",
      "metadata": {
        "id": "DkM-S9hB-m-p",
        "colab_type": "text"
      },
      "source": [
        "# Bibliography\n",
        "\n",
        "**[1]**. *Prophet documentation*: https://facebook.github.io/prophet/docs/quick_start.html\n",
        "\n",
        "**[2]**. S. J. Taylor, and B. Letham, *Forecasting at scale*, PeerJ Preprints, doi:https://doi.org/10.7287/peerj.preprints.3190v2 (2017). This contains the technical details of the Prophet library."
      ]
    },
    {
      "cell_type": "markdown",
      "metadata": {
        "id": "4N7vC6mO-xSc",
        "colab_type": "text"
      },
      "source": [
        "Back to [Part 2: Statistical models]()"
      ]
    }
  ]
}